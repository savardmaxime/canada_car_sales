{
 "cells": [
  {
   "cell_type": "code",
   "execution_count": null,
   "metadata": {},
   "outputs": [],
   "source": [
    "from statscantools.table import Table\n",
    "from statscantools.wds import wds_fetch_table\n",
    "import pandas as pd"
   ]
  },
  {
   "cell_type": "markdown",
   "metadata": {},
   "source": [
    "### About the dataset \n",
    "\n",
    "This survey looks at registrations of new motor vehicles in the provinces and territories in a given year.\n",
    "\n",
    "- Estimates for Newfoundland and Labrador, Nova Scotia and Alberta are currently unavailable because of contractual limitations of the existing data sharing agreement. However, they are included in the Canadian total.\n",
    "- Estimates for British Columbia include the territories.\n"
   ]
  },
  {
   "cell_type": "code",
   "execution_count": null,
   "metadata": {},
   "outputs": [],
   "source": [
    "wds_fetch_table('20100024')\n",
    "car_table = Table('20100024')\n",
    "print('Title : ', car_table.title)"
   ]
  },
  {
   "cell_type": "code",
   "execution_count": null,
   "metadata": {},
   "outputs": [],
   "source": [
    "df = car_table.merged_dataframe\n",
    "df['year'] = df['ref_date'].str[:4].astype(int)\n",
    "df['month'] = df['ref_date'].str[5:7].astype(int)"
   ]
  },
  {
   "cell_type": "code",
   "execution_count": null,
   "metadata": {},
   "outputs": [],
   "source": [
    "\"\"\"\n",
    "Note from Statistics Canada :\n",
    "Estimates for Newfoundland and Labrador, Nova Scotia and Alberta are currently unavailable because of contractual limitations of the existing data sharing agreement. \n",
    "However, they are included in the Canadian total. \n",
    "\"\"\"\n",
    "\n",
    "# remove cubed rows, keeping Canada total per above\n",
    "df = df[\n",
    "        #(car_df['dim_1_depth'] == car_df['dim_1_depth'].max()) & \n",
    "        (df['dim_2_depth'] == df['dim_2_depth'].max()) &\n",
    "        (df['dim_3_depth'] == df['dim_3_depth'].max())\n",
    "        ].copy()"
   ]
  },
  {
   "cell_type": "code",
   "execution_count": null,
   "metadata": {},
   "outputs": [],
   "source": [
    "columns_filter = ['year', 'month', 'geo', 'fuel type', 'vehicle type', 'value']\n",
    "df = df[columns_filter]\n",
    "df.head()"
   ]
  },
  {
   "cell_type": "code",
   "execution_count": null,
   "metadata": {},
   "outputs": [],
   "source": [
    "piv_cols = ['geo']\n",
    "piv_index = [ 'year', 'month',  'vehicle type', 'fuel type']\n",
    "piv_df = df.pivot(columns=piv_cols, index=piv_index)\n",
    "piv_df.columns = piv_df.columns.get_level_values(1)"
   ]
  },
  {
   "cell_type": "code",
   "execution_count": null,
   "metadata": {},
   "outputs": [],
   "source": [
    "piv_df.head()"
   ]
  },
  {
   "cell_type": "code",
   "execution_count": null,
   "metadata": {},
   "outputs": [],
   "source": [
    "# Calculate the other provinces from the Canada total minus the provinces we know\n",
    "piv_df['Other Provinces'] = piv_df['Canada'] * 2 - piv_df.sum(axis=1)"
   ]
  },
  {
   "cell_type": "code",
   "execution_count": null,
   "metadata": {},
   "outputs": [],
   "source": [
    "piv_df.drop(['Canada', 'Newfoundland and Labrador','Alberta','Nova Scotia'], axis=1, inplace=True)"
   ]
  },
  {
   "cell_type": "code",
   "execution_count": null,
   "metadata": {},
   "outputs": [],
   "source": [
    "piv_df.head()"
   ]
  },
  {
   "cell_type": "code",
   "execution_count": null,
   "metadata": {},
   "outputs": [],
   "source": [
    "stack = piv_df.stack()\n",
    "stack.name = 'units'\n",
    "output_df = stack.reset_index()"
   ]
  },
  {
   "cell_type": "code",
   "execution_count": null,
   "metadata": {},
   "outputs": [],
   "source": [
    "output_df.to_csv('cardata.csv', index=False)"
   ]
  }
 ],
 "metadata": {
  "kernelspec": {
   "display_name": "env_wsl",
   "language": "python",
   "name": "python3"
  },
  "language_info": {
   "codemirror_mode": {
    "name": "ipython",
    "version": 3
   },
   "file_extension": ".py",
   "mimetype": "text/x-python",
   "name": "python",
   "nbconvert_exporter": "python",
   "pygments_lexer": "ipython3",
   "version": "3.10.12"
  }
 },
 "nbformat": 4,
 "nbformat_minor": 2
}
